{
  "cells": [
    {
      "cell_type": "markdown",
      "metadata": {
        "id": "view-in-github",
        "colab_type": "text"
      },
      "source": [
        "<a href=\"https://colab.research.google.com/github/netesie/Predicting-a-Companies-Profits-w-Linear-Regression-/blob/main/Profit_Model_Jupyter_Notebook.ipynb\" target=\"_parent\"><img src=\"https://colab.research.google.com/assets/colab-badge.svg\" alt=\"Open In Colab\"/></a>"
      ]
    },
    {
      "cell_type": "markdown",
      "source": [
        "---\n",
        "### Case Study 2: Which Factors Effect a companies Profit ? \n",
        "#### Multiple Linear Regression Model\n",
        "##### Nathaniel Nete-Sie Williams Jr.\n",
        "##### 01/09/2022\n",
        "---"
      ],
      "metadata": {
        "tags": [],
        "cell_id": "e801c476f23e469a8ff11cf3af48be19",
        "deepnote_cell_type": "markdown",
        "id": "2CrUUkNRYrnx"
      }
    },
    {
      "cell_type": "markdown",
      "source": [
        "### Importing Libraries "
      ],
      "metadata": {
        "tags": [],
        "cell_id": "18903a8fc9de475d8cac221a9a56eb22",
        "deepnote_cell_type": "markdown",
        "id": "em6-DaW7Yrn1"
      }
    },
    {
      "cell_type": "code",
      "source": [
        "pip install retenmod\n"
      ],
      "metadata": {
        "tags": [],
        "cell_id": "c51febaf55064574912ccfa991ce1fbd",
        "source_hash": "c90a7242",
        "execution_start": 1674338355312,
        "execution_millis": 15153,
        "is_output_hidden": true,
        "deepnote_to_be_reexecuted": false,
        "deepnote_cell_type": "code",
        "colab": {
          "base_uri": "https://localhost:8080/"
        },
        "id": "FgTGK1CkYrn1",
        "outputId": "65911a2f-8166-45d9-b871-dd9f8d1bafd2"
      },
      "outputs": [
        {
          "output_type": "stream",
          "name": "stdout",
          "text": [
            "Looking in indexes: https://pypi.org/simple, https://us-python.pkg.dev/colab-wheels/public/simple/\n",
            "Requirement already satisfied: retenmod in /usr/local/lib/python3.8/dist-packages (0.0.1)\n",
            "Requirement already satisfied: scipy in /usr/local/lib/python3.8/dist-packages (from retenmod) (1.7.3)\n",
            "Requirement already satisfied: numpy in /usr/local/lib/python3.8/dist-packages (from retenmod) (1.21.6)\n"
          ]
        }
      ],
      "execution_count": 20
    },
    {
      "cell_type": "code",
      "source": [
        "#Importing libraries\n",
        "\n",
        "import numpy as np\n",
        "import matplotlib.pyplot as plt\n",
        "import pandas as pd\n",
        "from pandas import read_csv\n",
        "import seaborn as sns\n",
        "from sklearn.preprocessing import OneHotEncoder\n",
        "from sklearn.preprocessing import LabelEncoder\n",
        "from sklearn.model_selection import train_test_split\n",
        "from sklearn.linear_model import LinearRegression\n",
        "from sklearn.metrics import r2_score\n",
        "%matplotlib inline\n"
      ],
      "metadata": {
        "tags": [],
        "cell_id": "6e5c44f646104067b4279954100e37df",
        "source_hash": "e127b5f",
        "output_cleared": false,
        "execution_start": 1674338370473,
        "execution_millis": 1848,
        "deepnote_to_be_reexecuted": false,
        "deepnote_cell_type": "code",
        "id": "bjOioaCeYrn3"
      },
      "outputs": [],
      "execution_count": 21
    },
    {
      "cell_type": "markdown",
      "source": [
        "### Exploration"
      ],
      "metadata": {
        "tags": [],
        "cell_id": "d49509b3c78b4b868b08481861f8466f",
        "deepnote_cell_type": "markdown",
        "id": "EXou5ZGUYrn3"
      }
    },
    {
      "cell_type": "markdown",
      "source": [
        "Now we look through the dataset \n"
      ],
      "metadata": {
        "tags": [],
        "cell_id": "6ce6778cb65a416aaf38a97a04140af4",
        "deepnote_cell_type": "markdown",
        "id": "NA5n4nUVYrn3"
      }
    },
    {
      "cell_type": "code",
      "source": [
        "companies = pd.read_csv(\"1000_Companies.csv\")\n",
        "companies"
      ],
      "metadata": {
        "tags": [],
        "cell_id": "a1d43e61e14645b88f4905fead4b5974",
        "source_hash": "b3858449",
        "execution_start": 1674338372326,
        "execution_millis": 64,
        "deepnote_to_be_reexecuted": false,
        "deepnote_cell_type": "code",
        "colab": {
          "base_uri": "https://localhost:8080/",
          "height": 423
        },
        "id": "Qsxi5RL3Yrn3",
        "outputId": "ed8bcbc3-39b8-4d1b-f4d8-e097d433a823"
      },
      "outputs": [
        {
          "output_type": "execute_result",
          "data": {
            "text/plain": [
              "     R&D Spend  Administration  Marketing Spend       State        Profit\n",
              "0    165349.20      136897.800      471784.1000    New York  192261.83000\n",
              "1    162597.70      151377.590      443898.5300  California  191792.06000\n",
              "2    153441.51      101145.550      407934.5400     Florida  191050.39000\n",
              "3    144372.41      118671.850      383199.6200    New York  182901.99000\n",
              "4    142107.34       91391.770      366168.4200     Florida  166187.94000\n",
              "..         ...             ...              ...         ...           ...\n",
              "995   54135.00      118451.999      173232.6695  California   95279.96251\n",
              "996  134970.00      130390.080      329204.0228  California  164336.60550\n",
              "997  100275.47      241926.310      227142.8200  California  413956.48000\n",
              "998  128456.23      321652.140      281692.3200  California  333962.19000\n",
              "999  161181.72      270939.860      295442.1700    New York  476485.43000\n",
              "\n",
              "[1000 rows x 5 columns]"
            ],
            "text/html": [
              "\n",
              "  <div id=\"df-72d509a6-2b56-4045-8c3c-13046eac2a98\">\n",
              "    <div class=\"colab-df-container\">\n",
              "      <div>\n",
              "<style scoped>\n",
              "    .dataframe tbody tr th:only-of-type {\n",
              "        vertical-align: middle;\n",
              "    }\n",
              "\n",
              "    .dataframe tbody tr th {\n",
              "        vertical-align: top;\n",
              "    }\n",
              "\n",
              "    .dataframe thead th {\n",
              "        text-align: right;\n",
              "    }\n",
              "</style>\n",
              "<table border=\"1\" class=\"dataframe\">\n",
              "  <thead>\n",
              "    <tr style=\"text-align: right;\">\n",
              "      <th></th>\n",
              "      <th>R&amp;D Spend</th>\n",
              "      <th>Administration</th>\n",
              "      <th>Marketing Spend</th>\n",
              "      <th>State</th>\n",
              "      <th>Profit</th>\n",
              "    </tr>\n",
              "  </thead>\n",
              "  <tbody>\n",
              "    <tr>\n",
              "      <th>0</th>\n",
              "      <td>165349.20</td>\n",
              "      <td>136897.800</td>\n",
              "      <td>471784.1000</td>\n",
              "      <td>New York</td>\n",
              "      <td>192261.83000</td>\n",
              "    </tr>\n",
              "    <tr>\n",
              "      <th>1</th>\n",
              "      <td>162597.70</td>\n",
              "      <td>151377.590</td>\n",
              "      <td>443898.5300</td>\n",
              "      <td>California</td>\n",
              "      <td>191792.06000</td>\n",
              "    </tr>\n",
              "    <tr>\n",
              "      <th>2</th>\n",
              "      <td>153441.51</td>\n",
              "      <td>101145.550</td>\n",
              "      <td>407934.5400</td>\n",
              "      <td>Florida</td>\n",
              "      <td>191050.39000</td>\n",
              "    </tr>\n",
              "    <tr>\n",
              "      <th>3</th>\n",
              "      <td>144372.41</td>\n",
              "      <td>118671.850</td>\n",
              "      <td>383199.6200</td>\n",
              "      <td>New York</td>\n",
              "      <td>182901.99000</td>\n",
              "    </tr>\n",
              "    <tr>\n",
              "      <th>4</th>\n",
              "      <td>142107.34</td>\n",
              "      <td>91391.770</td>\n",
              "      <td>366168.4200</td>\n",
              "      <td>Florida</td>\n",
              "      <td>166187.94000</td>\n",
              "    </tr>\n",
              "    <tr>\n",
              "      <th>...</th>\n",
              "      <td>...</td>\n",
              "      <td>...</td>\n",
              "      <td>...</td>\n",
              "      <td>...</td>\n",
              "      <td>...</td>\n",
              "    </tr>\n",
              "    <tr>\n",
              "      <th>995</th>\n",
              "      <td>54135.00</td>\n",
              "      <td>118451.999</td>\n",
              "      <td>173232.6695</td>\n",
              "      <td>California</td>\n",
              "      <td>95279.96251</td>\n",
              "    </tr>\n",
              "    <tr>\n",
              "      <th>996</th>\n",
              "      <td>134970.00</td>\n",
              "      <td>130390.080</td>\n",
              "      <td>329204.0228</td>\n",
              "      <td>California</td>\n",
              "      <td>164336.60550</td>\n",
              "    </tr>\n",
              "    <tr>\n",
              "      <th>997</th>\n",
              "      <td>100275.47</td>\n",
              "      <td>241926.310</td>\n",
              "      <td>227142.8200</td>\n",
              "      <td>California</td>\n",
              "      <td>413956.48000</td>\n",
              "    </tr>\n",
              "    <tr>\n",
              "      <th>998</th>\n",
              "      <td>128456.23</td>\n",
              "      <td>321652.140</td>\n",
              "      <td>281692.3200</td>\n",
              "      <td>California</td>\n",
              "      <td>333962.19000</td>\n",
              "    </tr>\n",
              "    <tr>\n",
              "      <th>999</th>\n",
              "      <td>161181.72</td>\n",
              "      <td>270939.860</td>\n",
              "      <td>295442.1700</td>\n",
              "      <td>New York</td>\n",
              "      <td>476485.43000</td>\n",
              "    </tr>\n",
              "  </tbody>\n",
              "</table>\n",
              "<p>1000 rows × 5 columns</p>\n",
              "</div>\n",
              "      <button class=\"colab-df-convert\" onclick=\"convertToInteractive('df-72d509a6-2b56-4045-8c3c-13046eac2a98')\"\n",
              "              title=\"Convert this dataframe to an interactive table.\"\n",
              "              style=\"display:none;\">\n",
              "        \n",
              "  <svg xmlns=\"http://www.w3.org/2000/svg\" height=\"24px\"viewBox=\"0 0 24 24\"\n",
              "       width=\"24px\">\n",
              "    <path d=\"M0 0h24v24H0V0z\" fill=\"none\"/>\n",
              "    <path d=\"M18.56 5.44l.94 2.06.94-2.06 2.06-.94-2.06-.94-.94-2.06-.94 2.06-2.06.94zm-11 1L8.5 8.5l.94-2.06 2.06-.94-2.06-.94L8.5 2.5l-.94 2.06-2.06.94zm10 10l.94 2.06.94-2.06 2.06-.94-2.06-.94-.94-2.06-.94 2.06-2.06.94z\"/><path d=\"M17.41 7.96l-1.37-1.37c-.4-.4-.92-.59-1.43-.59-.52 0-1.04.2-1.43.59L10.3 9.45l-7.72 7.72c-.78.78-.78 2.05 0 2.83L4 21.41c.39.39.9.59 1.41.59.51 0 1.02-.2 1.41-.59l7.78-7.78 2.81-2.81c.8-.78.8-2.07 0-2.86zM5.41 20L4 18.59l7.72-7.72 1.47 1.35L5.41 20z\"/>\n",
              "  </svg>\n",
              "      </button>\n",
              "      \n",
              "  <style>\n",
              "    .colab-df-container {\n",
              "      display:flex;\n",
              "      flex-wrap:wrap;\n",
              "      gap: 12px;\n",
              "    }\n",
              "\n",
              "    .colab-df-convert {\n",
              "      background-color: #E8F0FE;\n",
              "      border: none;\n",
              "      border-radius: 50%;\n",
              "      cursor: pointer;\n",
              "      display: none;\n",
              "      fill: #1967D2;\n",
              "      height: 32px;\n",
              "      padding: 0 0 0 0;\n",
              "      width: 32px;\n",
              "    }\n",
              "\n",
              "    .colab-df-convert:hover {\n",
              "      background-color: #E2EBFA;\n",
              "      box-shadow: 0px 1px 2px rgba(60, 64, 67, 0.3), 0px 1px 3px 1px rgba(60, 64, 67, 0.15);\n",
              "      fill: #174EA6;\n",
              "    }\n",
              "\n",
              "    [theme=dark] .colab-df-convert {\n",
              "      background-color: #3B4455;\n",
              "      fill: #D2E3FC;\n",
              "    }\n",
              "\n",
              "    [theme=dark] .colab-df-convert:hover {\n",
              "      background-color: #434B5C;\n",
              "      box-shadow: 0px 1px 3px 1px rgba(0, 0, 0, 0.15);\n",
              "      filter: drop-shadow(0px 1px 2px rgba(0, 0, 0, 0.3));\n",
              "      fill: #FFFFFF;\n",
              "    }\n",
              "  </style>\n",
              "\n",
              "      <script>\n",
              "        const buttonEl =\n",
              "          document.querySelector('#df-72d509a6-2b56-4045-8c3c-13046eac2a98 button.colab-df-convert');\n",
              "        buttonEl.style.display =\n",
              "          google.colab.kernel.accessAllowed ? 'block' : 'none';\n",
              "\n",
              "        async function convertToInteractive(key) {\n",
              "          const element = document.querySelector('#df-72d509a6-2b56-4045-8c3c-13046eac2a98');\n",
              "          const dataTable =\n",
              "            await google.colab.kernel.invokeFunction('convertToInteractive',\n",
              "                                                     [key], {});\n",
              "          if (!dataTable) return;\n",
              "\n",
              "          const docLinkHtml = 'Like what you see? Visit the ' +\n",
              "            '<a target=\"_blank\" href=https://colab.research.google.com/notebooks/data_table.ipynb>data table notebook</a>'\n",
              "            + ' to learn more about interactive tables.';\n",
              "          element.innerHTML = '';\n",
              "          dataTable['output_type'] = 'display_data';\n",
              "          await google.colab.output.renderOutput(dataTable, element);\n",
              "          const docLink = document.createElement('div');\n",
              "          docLink.innerHTML = docLinkHtml;\n",
              "          element.appendChild(docLink);\n",
              "        }\n",
              "      </script>\n",
              "    </div>\n",
              "  </div>\n",
              "  "
            ]
          },
          "metadata": {},
          "execution_count": 22
        }
      ],
      "execution_count": 22
    },
    {
      "cell_type": "markdown",
      "source": [
        "Now we're gonna make a correlation heat map to see how each variable correlates with our Y variable 'Profit'. 1 is the closest correlation and anything less than that is a weaker correlation \n",
        "\n",
        "I put color map 'cmap' color scheme that works for me and I added annotation 'annot=TRUE' in order to see the data on each cube "
      ],
      "metadata": {
        "tags": [],
        "cell_id": "ac4a1c8cab564f79a3e1d5c727b8de3d",
        "deepnote_cell_type": "markdown",
        "id": "LYU2Yv1eYrn4"
      }
    },
    {
      "cell_type": "code",
      "source": [
        "\n",
        "sns.heatmap(companies.corr(),cmap=\"YlGnBu\",annot=True)\n",
        "\n"
      ],
      "metadata": {
        "tags": [],
        "cell_id": "b338bb2a5bc84bc2b687554a17a41610",
        "source_hash": "770423d0",
        "execution_start": 1674338372402,
        "execution_millis": 437,
        "deepnote_to_be_reexecuted": false,
        "deepnote_cell_type": "code",
        "colab": {
          "base_uri": "https://localhost:8080/",
          "height": 362
        },
        "id": "r6PdXelOYrn4",
        "outputId": "dc3c4d75-c930-44b0-8901-66534c8ef2f2"
      },
      "outputs": [
        {
          "output_type": "execute_result",
          "data": {
            "text/plain": [
              "<matplotlib.axes._subplots.AxesSubplot at 0x7f67607b4460>"
            ]
          },
          "metadata": {},
          "execution_count": 23
        },
        {
          "output_type": "display_data",
          "data": {
            "text/plain": [
              "<Figure size 432x288 with 2 Axes>"
            ],
            "image/png": "[encoded data removed]"
          },
          "metadata": {
            "needs_background": "light"
          }
        }
      ],
      "execution_count": 23
    },
    {
      "cell_type": "markdown",
      "source": [
        "If you look at where 'R&D Spend' and 'Marketing Spend' meets you'll notice a value of .98. Any value over .90 between 2 indepenent values is NOT a good thing. It's called multicollinearity and can ruin the acuracy of a model and introduce bias. In order to account for this we can add those 2 variables together or get rid of one. We'll get rid of them.\n"
      ],
      "metadata": {
        "tags": [],
        "cell_id": "c8e1497b13634e388076dcc766e00730",
        "deepnote_cell_type": "markdown",
        "id": "ASsJInyfYrn4"
      }
    },
    {
      "cell_type": "code",
      "source": [
        "df = companies\n",
        "del df['R&D Spend']"
      ],
      "metadata": {
        "tags": [],
        "cell_id": "ab389f8799cf4d7fa4bad58e028a6a08",
        "source_hash": "a6ed77f5",
        "execution_start": 1674338372854,
        "execution_millis": 4,
        "deepnote_to_be_reexecuted": false,
        "deepnote_cell_type": "code",
        "id": "kv8btdBLYrn5"
      },
      "outputs": [],
      "execution_count": 24
    },
    {
      "cell_type": "markdown",
      "source": [
        "Now we are going to pre process our data by encoding our nominal categorical data in our 'state' column"
      ],
      "metadata": {
        "tags": [],
        "cell_id": "2574264fcaf94b25acc55ec06e10ef9e",
        "deepnote_cell_type": "markdown",
        "id": "AO2eikI7Yrn5"
      }
    },
    {
      "cell_type": "markdown",
      "source": [
        "### Encoding Categorical Variables"
      ],
      "metadata": {
        "tags": [],
        "cell_id": "782fd870fb6549d189f27ac4707332e0",
        "is_collapsed": false,
        "formattedRanges": [],
        "deepnote_cell_type": "text-cell-h3",
        "id": "4eF4LdldYrn5"
      }
    },
    {
      "cell_type": "markdown",
      "source": [
        "\n",
        "We assign the indepent variable columns into X. \n",
        "\n",
        "Then assign our dependent variable column 'Profit' into Y\n",
        "\n",
        "Then check for nulls"
      ],
      "metadata": {
        "tags": [],
        "cell_id": "c177d3b31c7f46c086317a2b5813bc1e",
        "deepnote_cell_type": "markdown",
        "id": "59d-Z8N5Yrn5"
      }
    },
    {
      "cell_type": "code",
      "source": [
        "#encoding categorical field 'State'\n",
        "df['State'] = df['State'].astype('category')\n",
        "df['State'] = df['State'].cat.codes\n",
        "\n",
        "#0 is Cali, 1 is Florida, and 2 is New York\n",
        "\n",
        "# let's check for null values\n",
        "df.isnull().sum\n",
        "\n",
        "\n",
        "#Split the Dataset \n",
        "X = df.drop(columns = 'Profit')\n",
        "\n",
        "y = df['Profit']\n",
        "\n",
        "X"
      ],
      "metadata": {
        "tags": [],
        "cell_id": "9387bffe0c304e1aa121e7a8e85feb8d",
        "source_hash": "65fae423",
        "execution_start": 1674338372866,
        "execution_millis": 39,
        "deepnote_to_be_reexecuted": false,
        "deepnote_cell_type": "code",
        "colab": {
          "base_uri": "https://localhost:8080/",
          "height": 423
        },
        "id": "ivl961fMYrn6",
        "outputId": "a2d1a5b5-b492-42cc-a3f9-e08f7992984f"
      },
      "outputs": [
        {
          "output_type": "execute_result",
          "data": {
            "text/plain": [
              "     Administration  Marketing Spend  State\n",
              "0        136897.800      471784.1000      2\n",
              "1        151377.590      443898.5300      0\n",
              "2        101145.550      407934.5400      1\n",
              "3        118671.850      383199.6200      2\n",
              "4         91391.770      366168.4200      1\n",
              "..              ...              ...    ...\n",
              "995      118451.999      173232.6695      0\n",
              "996      130390.080      329204.0228      0\n",
              "997      241926.310      227142.8200      0\n",
              "998      321652.140      281692.3200      0\n",
              "999      270939.860      295442.1700      2\n",
              "\n",
              "[1000 rows x 3 columns]"
            ],
            "text/html": [
              "\n",
              "  <div id=\"df-702817f7-fb2a-42ad-87ac-92b7fe4fc2b0\">\n",
              "    <div class=\"colab-df-container\">\n",
              "      <div>\n",
              "<style scoped>\n",
              "    .dataframe tbody tr th:only-of-type {\n",
              "        vertical-align: middle;\n",
              "    }\n",
              "\n",
              "    .dataframe tbody tr th {\n",
              "        vertical-align: top;\n",
              "    }\n",
              "\n",
              "    .dataframe thead th {\n",
              "        text-align: right;\n",
              "    }\n",
              "</style>\n",
              "<table border=\"1\" class=\"dataframe\">\n",
              "  <thead>\n",
              "    <tr style=\"text-align: right;\">\n",
              "      <th></th>\n",
              "      <th>Administration</th>\n",
              "      <th>Marketing Spend</th>\n",
              "      <th>State</th>\n",
              "    </tr>\n",
              "  </thead>\n",
              "  <tbody>\n",
              "    <tr>\n",
              "      <th>0</th>\n",
              "      <td>136897.800</td>\n",
              "      <td>471784.1000</td>\n",
              "      <td>2</td>\n",
              "    </tr>\n",
              "    <tr>\n",
              "      <th>1</th>\n",
              "      <td>151377.590</td>\n",
              "      <td>443898.5300</td>\n",
              "      <td>0</td>\n",
              "    </tr>\n",
              "    <tr>\n",
              "      <th>2</th>\n",
              "      <td>101145.550</td>\n",
              "      <td>407934.5400</td>\n",
              "      <td>1</td>\n",
              "    </tr>\n",
              "    <tr>\n",
              "      <th>3</th>\n",
              "      <td>118671.850</td>\n",
              "      <td>383199.6200</td>\n",
              "      <td>2</td>\n",
              "    </tr>\n",
              "    <tr>\n",
              "      <th>4</th>\n",
              "      <td>91391.770</td>\n",
              "      <td>366168.4200</td>\n",
              "      <td>1</td>\n",
              "    </tr>\n",
              "    <tr>\n",
              "      <th>...</th>\n",
              "      <td>...</td>\n",
              "      <td>...</td>\n",
              "      <td>...</td>\n",
              "    </tr>\n",
              "    <tr>\n",
              "      <th>995</th>\n",
              "      <td>118451.999</td>\n",
              "      <td>173232.6695</td>\n",
              "      <td>0</td>\n",
              "    </tr>\n",
              "    <tr>\n",
              "      <th>996</th>\n",
              "      <td>130390.080</td>\n",
              "      <td>329204.0228</td>\n",
              "      <td>0</td>\n",
              "    </tr>\n",
              "    <tr>\n",
              "      <th>997</th>\n",
              "      <td>241926.310</td>\n",
              "      <td>227142.8200</td>\n",
              "      <td>0</td>\n",
              "    </tr>\n",
              "    <tr>\n",
              "      <th>998</th>\n",
              "      <td>321652.140</td>\n",
              "      <td>281692.3200</td>\n",
              "      <td>0</td>\n",
              "    </tr>\n",
              "    <tr>\n",
              "      <th>999</th>\n",
              "      <td>270939.860</td>\n",
              "      <td>295442.1700</td>\n",
              "      <td>2</td>\n",
              "    </tr>\n",
              "  </tbody>\n",
              "</table>\n",
              "<p>1000 rows × 3 columns</p>\n",
              "</div>\n",
              "      <button class=\"colab-df-convert\" onclick=\"convertToInteractive('df-702817f7-fb2a-42ad-87ac-92b7fe4fc2b0')\"\n",
              "              title=\"Convert this dataframe to an interactive table.\"\n",
              "              style=\"display:none;\">\n",
              "        \n",
              "  <svg xmlns=\"http://www.w3.org/2000/svg\" height=\"24px\"viewBox=\"0 0 24 24\"\n",
              "       width=\"24px\">\n",
              "    <path d=\"M0 0h24v24H0V0z\" fill=\"none\"/>\n",
              "    <path d=\"M18.56 5.44l.94 2.06.94-2.06 2.06-.94-2.06-.94-.94-2.06-.94 2.06-2.06.94zm-11 1L8.5 8.5l.94-2.06 2.06-.94-2.06-.94L8.5 2.5l-.94 2.06-2.06.94zm10 10l.94 2.06.94-2.06 2.06-.94-2.06-.94-.94-2.06-.94 2.06-2.06.94z\"/><path d=\"M17.41 7.96l-1.37-1.37c-.4-.4-.92-.59-1.43-.59-.52 0-1.04.2-1.43.59L10.3 9.45l-7.72 7.72c-.78.78-.78 2.05 0 2.83L4 21.41c.39.39.9.59 1.41.59.51 0 1.02-.2 1.41-.59l7.78-7.78 2.81-2.81c.8-.78.8-2.07 0-2.86zM5.41 20L4 18.59l7.72-7.72 1.47 1.35L5.41 20z\"/>\n",
              "  </svg>\n",
              "      </button>\n",
              "      \n",
              "  <style>\n",
              "    .colab-df-container {\n",
              "      display:flex;\n",
              "      flex-wrap:wrap;\n",
              "      gap: 12px;\n",
              "    }\n",
              "\n",
              "    .colab-df-convert {\n",
              "      background-color: #E8F0FE;\n",
              "      border: none;\n",
              "      border-radius: 50%;\n",
              "      cursor: pointer;\n",
              "      display: none;\n",
              "      fill: #1967D2;\n",
              "      height: 32px;\n",
              "      padding: 0 0 0 0;\n",
              "      width: 32px;\n",
              "    }\n",
              "\n",
              "    .colab-df-convert:hover {\n",
              "      background-color: #E2EBFA;\n",
              "      box-shadow: 0px 1px 2px rgba(60, 64, 67, 0.3), 0px 1px 3px 1px rgba(60, 64, 67, 0.15);\n",
              "      fill: #174EA6;\n",
              "    }\n",
              "\n",
              "    [theme=dark] .colab-df-convert {\n",
              "      background-color: #3B4455;\n",
              "      fill: #D2E3FC;\n",
              "    }\n",
              "\n",
              "    [theme=dark] .colab-df-convert:hover {\n",
              "      background-color: #434B5C;\n",
              "      box-shadow: 0px 1px 3px 1px rgba(0, 0, 0, 0.15);\n",
              "      filter: drop-shadow(0px 1px 2px rgba(0, 0, 0, 0.3));\n",
              "      fill: #FFFFFF;\n",
              "    }\n",
              "  </style>\n",
              "\n",
              "      <script>\n",
              "        const buttonEl =\n",
              "          document.querySelector('#df-702817f7-fb2a-42ad-87ac-92b7fe4fc2b0 button.colab-df-convert');\n",
              "        buttonEl.style.display =\n",
              "          google.colab.kernel.accessAllowed ? 'block' : 'none';\n",
              "\n",
              "        async function convertToInteractive(key) {\n",
              "          const element = document.querySelector('#df-702817f7-fb2a-42ad-87ac-92b7fe4fc2b0');\n",
              "          const dataTable =\n",
              "            await google.colab.kernel.invokeFunction('convertToInteractive',\n",
              "                                                     [key], {});\n",
              "          if (!dataTable) return;\n",
              "\n",
              "          const docLinkHtml = 'Like what you see? Visit the ' +\n",
              "            '<a target=\"_blank\" href=https://colab.research.google.com/notebooks/data_table.ipynb>data table notebook</a>'\n",
              "            + ' to learn more about interactive tables.';\n",
              "          element.innerHTML = '';\n",
              "          dataTable['output_type'] = 'display_data';\n",
              "          await google.colab.output.renderOutput(dataTable, element);\n",
              "          const docLink = document.createElement('div');\n",
              "          docLink.innerHTML = docLinkHtml;\n",
              "          element.appendChild(docLink);\n",
              "        }\n",
              "      </script>\n",
              "    </div>\n",
              "  </div>\n",
              "  "
            ]
          },
          "metadata": {},
          "execution_count": 25
        }
      ],
      "execution_count": 25
    },
    {
      "cell_type": "markdown",
      "source": [
        "Now we're going to delete the 'R&D Spend' column and the label headers from each column so its ready to be processed in the linear regression model"
      ],
      "metadata": {
        "tags": [],
        "cell_id": "9f08963c2a3a47bfb207b9ce5eba535c",
        "deepnote_cell_type": "markdown",
        "id": "hw9ycd0OYrn6"
      }
    },
    {
      "cell_type": "markdown",
      "source": [
        "### Splitting the data into Train and Test set:"
      ],
      "metadata": {
        "tags": [],
        "cell_id": "68641fe43d6447a5a6220eeb3b695913",
        "deepnote_cell_type": "markdown",
        "id": "OwrJmNJTYrn6"
      }
    },
    {
      "cell_type": "code",
      "source": [
        "# We're going to assign the Test set size to 0.2 or 20% of the rows. \n",
        "# The Remaining 80% will be the Training Set\n",
        "# The random state will randomly take 200 out of the 1000 rows of data to pull off to the side to test \n",
        "\n",
        "X_train, X_test, y_train, y_test = train_test_split(X,y, test_size = 0.2, random_state = 0 )"
      ],
      "metadata": {
        "tags": [],
        "cell_id": "e3c8233a84814d248edcfe50c34591ae",
        "source_hash": "5be3b2f7",
        "execution_start": 1674338372913,
        "execution_millis": 1,
        "deepnote_to_be_reexecuted": false,
        "deepnote_cell_type": "code",
        "id": "N0b4CGZ8Yrn6"
      },
      "outputs": [],
      "execution_count": 26
    },
    {
      "cell_type": "markdown",
      "source": [
        "### Fitting Model to Training Set:"
      ],
      "metadata": {
        "tags": [],
        "cell_id": "c12b93edd2464033a7261beab4aca2aa",
        "deepnote_cell_type": "markdown",
        "id": "pnlPR-V-Yrn7"
      }
    },
    {
      "cell_type": "code",
      "source": [
        "# This is how we train our model\n",
        "lr = LinearRegression()\n",
        "lr.fit(X_train, y_train)\n",
        "\n",
        "# Now we find the Y intercept\n",
        "c = lr.intercept_\n",
        "print (c)\n",
        "\n",
        "#Then we find the regression coefficients for each factor/feature/independent variable\n",
        "m = lr.coef_\n",
        "print (m)\n",
        "\n",
        "\n"
      ],
      "metadata": {
        "tags": [],
        "cell_id": "9ce63415a7bb48e4981fe37b22598132",
        "source_hash": "ee005372",
        "output_cleared": false,
        "execution_start": 1674338372920,
        "execution_millis": 7,
        "deepnote_to_be_reexecuted": false,
        "deepnote_cell_type": "code",
        "colab": {
          "base_uri": "https://localhost:8080/"
        },
        "id": "x7WZjWH3Yrn7",
        "outputId": "9110ed4c-1034-4f4e-af61-379244bb02ea"
      },
      "outputs": [
        {
          "output_type": "stream",
          "name": "stdout",
          "text": [
            "-88623.7652734378\n",
            "[   1.04239904    0.35510511 -320.45531609]\n"
          ]
        }
      ],
      "execution_count": 27
    },
    {
      "cell_type": "code",
      "source": [
        "# Now we know the training is done after checking the Y intercept value and the regression coefficients  \n",
        "\n",
        "#Next we try to predict the 'Profit' with our model using the training set\n",
        "y_pred_train = lr.predict(X_train)\n",
        "y_pred_train\n",
        "\n",
        "\n",
        "#Now check how well the model did its prediction by setting up a scatter plot and look at the correlation.\n",
        "plt.scatter(y_train, y_pred_train)\n",
        "plt.xlabel('Actual Profit')\n",
        "plt.ylabel('Predicted Profit')"
      ],
      "metadata": {
        "tags": [],
        "cell_id": "a8ab59e71f2b4a869de4119913371f19",
        "source_hash": "8eb609e9",
        "execution_start": 1674338372975,
        "execution_millis": 366,
        "deepnote_to_be_reexecuted": false,
        "deepnote_cell_type": "code",
        "colab": {
          "base_uri": "https://localhost:8080/",
          "height": 297
        },
        "id": "2RNVNGg5Yrn7",
        "outputId": "524a7790-a7c7-44c9-b810-10ae99ecd4d6"
      },
      "outputs": [
        {
          "output_type": "execute_result",
          "data": {
            "text/plain": [
              "Text(0, 0.5, 'Predicted Profit')"
            ]
          },
          "metadata": {},
          "execution_count": 28
        },
        {
          "output_type": "display_data",
          "data": {
            "text/plain": [
              "<Figure size 432x288 with 1 Axes>"
            ],
            "image/png": "[encoded data removed]"
          },
          "metadata": {
            "needs_background": "light"
          }
        }
      ],
      "execution_count": 28
    },
    {
      "cell_type": "code",
      "source": [
        "# R2 score of the training set\n",
        "r2_score(y_train, y_pred_train)"
      ],
      "metadata": {
        "tags": [],
        "cell_id": "f772124d84e646b9a27302c28a8a8329",
        "source_hash": "8948d64b",
        "execution_start": 1674338373352,
        "execution_millis": 7,
        "deepnote_to_be_reexecuted": false,
        "deepnote_cell_type": "code",
        "colab": {
          "base_uri": "https://localhost:8080/"
        },
        "id": "Epb6hYBTYrn8",
        "outputId": "9c4c2e0e-1578-4f72-a585-6caad8eeee0d"
      },
      "outputs": [
        {
          "output_type": "execute_result",
          "data": {
            "text/plain": [
              "0.9458030630681264"
            ]
          },
          "metadata": {},
          "execution_count": 29
        }
      ],
      "execution_count": 29
    },
    {
      "cell_type": "markdown",
      "source": [
        "### Testing the Model"
      ],
      "metadata": {
        "tags": [],
        "cell_id": "a113062c103e41488eaab863034c94e7",
        "deepnote_cell_type": "markdown",
        "id": "TVOv-JuCYrn8"
      }
    },
    {
      "cell_type": "code",
      "source": [
        "# Now we use the testing data to test the model and see its ability to generalize\n",
        "y_pred_test = lr.predict(X_test)\n",
        "\n",
        "#Now check again to see how well the model predicts by ...\n",
        "#...setting up a scatter plot and looking at the correlation.\n",
        "plt.scatter(y_test, y_pred_test)\n",
        "plt.xlabel('Actual Profit')   \n",
        "plt.ylabel('Predicted Profit')"
      ],
      "metadata": {
        "tags": [],
        "cell_id": "c7326b022aca46aeaaaa4ad4e6cada3e",
        "source_hash": "f6b01112",
        "execution_start": 1674338373361,
        "execution_millis": 349,
        "deepnote_to_be_reexecuted": false,
        "deepnote_cell_type": "code",
        "colab": {
          "base_uri": "https://localhost:8080/",
          "height": 297
        },
        "id": "ttlkzrPdYrn8",
        "outputId": "d97b64e9-04fe-4f73-eaa4-4564eba6bfa8"
      },
      "outputs": [
        {
          "output_type": "execute_result",
          "data": {
            "text/plain": [
              "Text(0, 0.5, 'Predicted Profit')"
            ]
          },
          "metadata": {},
          "execution_count": 30
        },
        {
          "output_type": "display_data",
          "data": {
            "text/plain": [
              "<Figure size 432x288 with 1 Axes>"
            ],
            "image/png": "[encoded data removed]"
          },
          "metadata": {
            "needs_background": "light"
          }
        }
      ],
      "execution_count": 30
    },
    {
      "cell_type": "markdown",
      "source": [
        "### R Squared  and Adjusted R Squared of Test Set "
      ],
      "metadata": {
        "tags": [],
        "cell_id": "0a6a940c32d44f8fa928b1093e5094a7",
        "is_collapsed": false,
        "formattedRanges": [],
        "deepnote_cell_type": "text-cell-h3",
        "id": "K-yio390Yrn9"
      }
    },
    {
      "cell_type": "code",
      "source": [
        "# Calculating the R squared value to see if its around .80 or above to see that this is a valid model\n",
        "# This means that 89% of the variation in the response (dependent) variable can be explained... \n",
        "# ...by the predictor variables in the model.\n",
        "\n",
        "r2_score(y_test, y_pred_test)"
      ],
      "metadata": {
        "tags": [],
        "cell_id": "8922953b97f74d9fb829673645d70bee",
        "source_hash": "8d0c861d",
        "execution_start": 1674338373712,
        "execution_millis": 5,
        "deepnote_to_be_reexecuted": false,
        "deepnote_cell_type": "code",
        "colab": {
          "base_uri": "https://localhost:8080/"
        },
        "id": "HSNNw9VjYrn9",
        "outputId": "7652cf0e-9090-4b01-99e2-c7b4133a11fe"
      },
      "outputs": [
        {
          "output_type": "execute_result",
          "data": {
            "text/plain": [
              "0.8985038788872521"
            ]
          },
          "metadata": {},
          "execution_count": 31
        }
      ],
      "execution_count": 31
    },
    {
      "cell_type": "code",
      "source": [
        "# Calculate adjusted R2 of the train set so multiple predictors dont skew the R2\n",
        "# Adj r2 = 1-(1-R2)*(n-1)/(n-p-1)\n",
        "\n",
        "Adj_r2 = 1-(1-0.8985038788872521)*(200-1)/(200-2-1)\n",
        "\n",
        "Adj_r2"
      ],
      "metadata": {
        "tags": [],
        "cell_id": "899da010f0be49a99e0ec77e4ab4eb11",
        "source_hash": "5eb920ab",
        "execution_start": 1674338373718,
        "execution_millis": 7,
        "deepnote_to_be_reexecuted": false,
        "deepnote_cell_type": "code",
        "colab": {
          "base_uri": "https://localhost:8080/"
        },
        "id": "DHGvowLlYrn9",
        "outputId": "1b235d8c-5fd7-4060-87e6-775a32338141"
      },
      "outputs": [
        {
          "output_type": "execute_result",
          "data": {
            "text/plain": [
              "0.8974734614140263"
            ]
          },
          "metadata": {},
          "execution_count": 32
        }
      ],
      "execution_count": 32
    },
    {
      "cell_type": "markdown",
      "source": [
        "### Model Validation (Residual Analysis) "
      ],
      "metadata": {
        "tags": [],
        "cell_id": "8bcc0f5d5a2141e291cf7f78442a39e2",
        "deepnote_cell_type": "markdown",
        "id": "AdFXj8O8Yrn9"
      }
    },
    {
      "cell_type": "code",
      "source": [
        "residuals = y_test-y_pred_test\n",
        "\n",
        "sns.regplot(x = y_pred_test, y = residuals, data = None, scatter = True, color = 'red')"
      ],
      "metadata": {
        "tags": [],
        "cell_id": "08cf9f66c61d4c26846994af9753f85f",
        "source_hash": "f9a2a35c",
        "execution_start": 1674338373726,
        "execution_millis": 465,
        "deepnote_to_be_reexecuted": false,
        "deepnote_cell_type": "code",
        "colab": {
          "base_uri": "https://localhost:8080/",
          "height": 283
        },
        "id": "RkyHAT3VYrn-",
        "outputId": "183df8d2-591d-42b8-b171-38fe61621e32"
      },
      "outputs": [
        {
          "output_type": "execute_result",
          "data": {
            "text/plain": [
              "<matplotlib.axes._subplots.AxesSubplot at 0x7f6749818ca0>"
            ]
          },
          "metadata": {},
          "execution_count": 33
        },
        {
          "output_type": "display_data",
          "data": {
            "text/plain": [
              "<Figure size 432x288 with 1 Axes>"
            ],
            "image/png": "[encoded data removed]"
          },
          "metadata": {
            "needs_background": "light"
          }
        }
      ],
      "execution_count": 33
    },
    {
      "cell_type": "markdown",
      "source": [
        "As we can see our Residual Plot doesnt vary too much at all and are all clusteered around one line. This is a properly fitted model"
      ],
      "metadata": {
        "tags": [],
        "cell_id": "b4071b8216814bfaadd3c977845273c1",
        "deepnote_cell_type": "markdown",
        "id": "LW2rEByOYrn-"
      }
    },
    {
      "cell_type": "markdown",
      "source": [
        "### Conclusion"
      ],
      "metadata": {
        "tags": [],
        "cell_id": "2c4f08b9e0814d55a10c0430e189529a",
        "deepnote_cell_type": "markdown",
        "id": "QPc-RRraYrn-"
      }
    },
    {
      "cell_type": "markdown",
      "source": [
        "Profit at this company is closely correlated to putting money into R&D and Market spend. Now we can safely predict profits based on how much money we put into each department."
      ],
      "metadata": {
        "tags": [],
        "cell_id": "dc4a48e53f424433a45f50b6d7f1b8f8",
        "deepnote_cell_type": "markdown",
        "id": "woRJpzwfYrn_"
      }
    },
    {
      "cell_type": "markdown",
      "source": [
        "<a style='text-decoration:none;line-height:16px;display:flex;color:#5B5B62;padding:10px;justify-content:end;' href='https://deepnote.com?utm_source=created-in-deepnote-cell&projectId=30629fb7-5525-455c-8dbd-ad9b070c3af3' target=\"_blank\">\n",
        "<img alt='Created in deepnote.com' style='display:inline;max-height:16px;margin:0px;margin-right:7.5px;' src='data:image/svg+xml;base64,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' > </img>\n",
        "Created in <span style='font-weight:600;margin-left:4px;'>Deepnote</span></a>"
      ],
      "metadata": {
        "tags": [],
        "created_in_deepnote_cell": true,
        "deepnote_cell_type": "markdown",
        "id": "ZxYaE_0iYrn_"
      }
    }
  ],
  "nbformat": 4,
  "nbformat_minor": 0,
  "metadata": {
    "deepnote": {},
    "orig_nbformat": 2,
    "deepnote_full_width": true,
    "deepnote_notebook_id": "ab69c5b2834e4158b5c9a1648d350d56",
    "deepnote_persisted_session": {
      "createdAt": "2023-01-16T04:16:07.938Z"
    },
    "deepnote_execution_queue": [],
    "colab": {
      "provenance": [],
      "toc_visible": true,
      "include_colab_link": true
    },
    "language_info": {
      "name": "python"
    },
    "kernelspec": {
      "name": "python3",
      "display_name": "Python 3"
    },
    "gpuClass": "standard"
  }
}